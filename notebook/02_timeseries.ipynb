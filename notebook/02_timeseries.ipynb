{
 "cells": [
  {
   "cell_type": "code",
   "execution_count": 32,
   "metadata": {},
   "outputs": [],
   "source": [
    "import os\n",
    "from pathlib import Path\n",
    "os.chdir(str(Path(os.getcwd()).parent.absolute()))\n",
    "from datetime import date,datetime,timedelta\n",
    "\n",
    "import cudf\n",
    "import dask_cudf\n",
    "import pandas as pd\n",
    "import cupy\n",
    "import cuml\n",
    "from xgboost import XGBRegressor\n",
    "from sklearn.metrics import mean_absolute_percentage_error,mean_squared_error\n",
    "import numpy as np\n",
    "\n",
    "from src.metric.loss import symmetric_mean_absolute_percentage_error as smape"
   ]
  },
  {
   "cell_type": "code",
   "execution_count": 3,
   "metadata": {},
   "outputs": [],
   "source": [
    "from tsfresh.feature_extraction import extract_features"
   ]
  },
  {
   "cell_type": "code",
   "execution_count": 4,
   "metadata": {},
   "outputs": [],
   "source": [
    "df=pd.read_csv('data/train.csv')"
   ]
  },
  {
   "cell_type": "code",
   "execution_count": 5,
   "metadata": {},
   "outputs": [],
   "source": [
    "df['first_day_of_month']=pd.to_datetime(df['first_day_of_month'])"
   ]
  },
  {
   "cell_type": "code",
   "execution_count": 6,
   "metadata": {},
   "outputs": [],
   "source": [
    "features=['row_id','cfips','first_day_of_month','mcb','active']"
   ]
  },
  {
   "cell_type": "code",
   "execution_count": 7,
   "metadata": {},
   "outputs": [],
   "source": [
    "df_=(\n",
    "    df.rename(mapper={'microbusiness_density':'mcb'},axis=1)\n",
    "    .sort_values('row_id')\n",
    "    .assign(next_mcb=lambda x:x.groupby('cfips')['mcb'].shift(-1))\n",
    "    .assign(target=lambda x:(x.next_mcb-x.mcb)/x.mcb)\n",
    ")"
   ]
  },
  {
   "cell_type": "code",
   "execution_count": 8,
   "metadata": {},
   "outputs": [],
   "source": [
    "\n",
    "features=['row_id', 'cfips', 'first_day_of_month', 'target','active']"
   ]
  },
  {
   "cell_type": "code",
   "execution_count": 9,
   "metadata": {},
   "outputs": [],
   "source": [
    "df_label=df_[['row_id','target','first_day_of_month']].dropna()\n",
    "df_label['target']=df_label['target'].clip(-.05,.05)"
   ]
  },
  {
   "cell_type": "code",
   "execution_count": 10,
   "metadata": {},
   "outputs": [],
   "source": [
    "df_feature_1=df_[features].copy(deep=True).rename({'first_day_of_month':'dt1','target':'target_1'},axis=1)\n",
    "df_feature_2=df_[features].copy(deep=True).rename({'first_day_of_month':'dt2','target':'target_2'},axis=1).drop(['active'],axis=1)"
   ]
  },
  {
   "cell_type": "code",
   "execution_count": 11,
   "metadata": {},
   "outputs": [],
   "source": [
    "df_join=pd.merge(\n",
    "    df_feature_1.drop(['row_id'],axis=1),\n",
    "    df_feature_2,\n",
    "    on='cfips'\n",
    ").loc[lambda x:x.dt2>x.dt1].sort_values(['row_id','dt1'])[['row_id','target_1','dt1','active']].fillna(0)"
   ]
  },
  {
   "cell_type": "code",
   "execution_count": null,
   "metadata": {},
   "outputs": [],
   "source": []
  },
  {
   "cell_type": "code",
   "execution_count": 12,
   "metadata": {},
   "outputs": [],
   "source": [
    "df_join['target_1']=df_join['target_1'].clip(-.05,.05)"
   ]
  },
  {
   "cell_type": "code",
   "execution_count": 13,
   "metadata": {},
   "outputs": [
    {
     "name": "stderr",
     "output_type": "stream",
     "text": [
      "Feature Extraction: 100%|██████████| 160/160 [02:44<00:00,  1.03s/it]\n"
     ]
    }
   ],
   "source": [
    "df_ts_feature=extract_features(df_join.drop(['active'],axis=1),column_id='row_id',column_sort='dt1')"
   ]
  },
  {
   "cell_type": "code",
   "execution_count": 14,
   "metadata": {},
   "outputs": [],
   "source": [
    "df_ft_active=df_join.groupby('row_id').agg(\n",
    "    # last_active=('active',),\n",
    "    # first_active=('active',pd.),\n",
    "    mean_active=('active',np.mean),\n",
    "    med_active=('active',np.median),\n",
    "    max_active=('active',np.max),\n",
    "    min_active=('active',np.min),\n",
    ")\n",
    "df_ft_active['last_active']=df_join.groupby('row_id')['active'].last()\n",
    "df_ft_active['first_active']=df_join.groupby('row_id')['active'].first()\n",
    "df_ft_active.reset_index(inplace=True)"
   ]
  },
  {
   "cell_type": "code",
   "execution_count": 15,
   "metadata": {},
   "outputs": [
    {
     "data": {
      "text/html": [
       "<div>\n",
       "<style scoped>\n",
       "    .dataframe tbody tr th:only-of-type {\n",
       "        vertical-align: middle;\n",
       "    }\n",
       "\n",
       "    .dataframe tbody tr th {\n",
       "        vertical-align: top;\n",
       "    }\n",
       "\n",
       "    .dataframe thead th {\n",
       "        text-align: right;\n",
       "    }\n",
       "</style>\n",
       "<table border=\"1\" class=\"dataframe\">\n",
       "  <thead>\n",
       "    <tr style=\"text-align: right;\">\n",
       "      <th></th>\n",
       "      <th>row_id</th>\n",
       "      <th>mean_active</th>\n",
       "      <th>med_active</th>\n",
       "      <th>max_active</th>\n",
       "      <th>min_active</th>\n",
       "      <th>last_active</th>\n",
       "      <th>first_active</th>\n",
       "    </tr>\n",
       "  </thead>\n",
       "  <tbody>\n",
       "    <tr>\n",
       "      <th>0</th>\n",
       "      <td>10001_2019-09-01</td>\n",
       "      <td>6624.000000</td>\n",
       "      <td>6624.0</td>\n",
       "      <td>6624</td>\n",
       "      <td>6624</td>\n",
       "      <td>6624</td>\n",
       "      <td>6624</td>\n",
       "    </tr>\n",
       "    <tr>\n",
       "      <th>1</th>\n",
       "      <td>10001_2019-10-01</td>\n",
       "      <td>6648.000000</td>\n",
       "      <td>6648.0</td>\n",
       "      <td>6672</td>\n",
       "      <td>6624</td>\n",
       "      <td>6672</td>\n",
       "      <td>6624</td>\n",
       "    </tr>\n",
       "    <tr>\n",
       "      <th>2</th>\n",
       "      <td>10001_2019-11-01</td>\n",
       "      <td>6685.333333</td>\n",
       "      <td>6672.0</td>\n",
       "      <td>6760</td>\n",
       "      <td>6624</td>\n",
       "      <td>6760</td>\n",
       "      <td>6624</td>\n",
       "    </tr>\n",
       "    <tr>\n",
       "      <th>3</th>\n",
       "      <td>10001_2019-12-01</td>\n",
       "      <td>6712.750000</td>\n",
       "      <td>6716.0</td>\n",
       "      <td>6795</td>\n",
       "      <td>6624</td>\n",
       "      <td>6795</td>\n",
       "      <td>6624</td>\n",
       "    </tr>\n",
       "    <tr>\n",
       "      <th>4</th>\n",
       "      <td>10001_2020-01-01</td>\n",
       "      <td>6719.000000</td>\n",
       "      <td>6744.0</td>\n",
       "      <td>6795</td>\n",
       "      <td>6624</td>\n",
       "      <td>6744</td>\n",
       "      <td>6624</td>\n",
       "    </tr>\n",
       "    <tr>\n",
       "      <th>...</th>\n",
       "      <td>...</td>\n",
       "      <td>...</td>\n",
       "      <td>...</td>\n",
       "      <td>...</td>\n",
       "      <td>...</td>\n",
       "      <td>...</td>\n",
       "      <td>...</td>\n",
       "    </tr>\n",
       "    <tr>\n",
       "      <th>119125</th>\n",
       "      <td>9015_2022-06-01</td>\n",
       "      <td>3496.882353</td>\n",
       "      <td>3461.5</td>\n",
       "      <td>3792</td>\n",
       "      <td>3266</td>\n",
       "      <td>3296</td>\n",
       "      <td>3440</td>\n",
       "    </tr>\n",
       "    <tr>\n",
       "      <th>119126</th>\n",
       "      <td>9015_2022-07-01</td>\n",
       "      <td>3491.085714</td>\n",
       "      <td>3440.0</td>\n",
       "      <td>3792</td>\n",
       "      <td>3266</td>\n",
       "      <td>3294</td>\n",
       "      <td>3440</td>\n",
       "    </tr>\n",
       "    <tr>\n",
       "      <th>119127</th>\n",
       "      <td>9015_2022-08-01</td>\n",
       "      <td>3486.972222</td>\n",
       "      <td>3414.0</td>\n",
       "      <td>3792</td>\n",
       "      <td>3266</td>\n",
       "      <td>3343</td>\n",
       "      <td>3440</td>\n",
       "    </tr>\n",
       "    <tr>\n",
       "      <th>119128</th>\n",
       "      <td>9015_2022-09-01</td>\n",
       "      <td>3482.540541</td>\n",
       "      <td>3388.0</td>\n",
       "      <td>3792</td>\n",
       "      <td>3266</td>\n",
       "      <td>3323</td>\n",
       "      <td>3440</td>\n",
       "    </tr>\n",
       "    <tr>\n",
       "      <th>119129</th>\n",
       "      <td>9015_2022-10-01</td>\n",
       "      <td>3478.710526</td>\n",
       "      <td>3365.5</td>\n",
       "      <td>3792</td>\n",
       "      <td>3266</td>\n",
       "      <td>3337</td>\n",
       "      <td>3440</td>\n",
       "    </tr>\n",
       "  </tbody>\n",
       "</table>\n",
       "<p>119130 rows × 7 columns</p>\n",
       "</div>"
      ],
      "text/plain": [
       "                  row_id  mean_active  med_active  max_active  min_active  \\\n",
       "0       10001_2019-09-01  6624.000000      6624.0        6624        6624   \n",
       "1       10001_2019-10-01  6648.000000      6648.0        6672        6624   \n",
       "2       10001_2019-11-01  6685.333333      6672.0        6760        6624   \n",
       "3       10001_2019-12-01  6712.750000      6716.0        6795        6624   \n",
       "4       10001_2020-01-01  6719.000000      6744.0        6795        6624   \n",
       "...                  ...          ...         ...         ...         ...   \n",
       "119125   9015_2022-06-01  3496.882353      3461.5        3792        3266   \n",
       "119126   9015_2022-07-01  3491.085714      3440.0        3792        3266   \n",
       "119127   9015_2022-08-01  3486.972222      3414.0        3792        3266   \n",
       "119128   9015_2022-09-01  3482.540541      3388.0        3792        3266   \n",
       "119129   9015_2022-10-01  3478.710526      3365.5        3792        3266   \n",
       "\n",
       "        last_active  first_active  \n",
       "0              6624          6624  \n",
       "1              6672          6624  \n",
       "2              6760          6624  \n",
       "3              6795          6624  \n",
       "4              6744          6624  \n",
       "...             ...           ...  \n",
       "119125         3296          3440  \n",
       "119126         3294          3440  \n",
       "119127         3343          3440  \n",
       "119128         3323          3440  \n",
       "119129         3337          3440  \n",
       "\n",
       "[119130 rows x 7 columns]"
      ]
     },
     "execution_count": 15,
     "metadata": {},
     "output_type": "execute_result"
    }
   ],
   "source": [
    "df_ft_active"
   ]
  },
  {
   "cell_type": "code",
   "execution_count": 16,
   "metadata": {},
   "outputs": [],
   "source": [
    "df_final_feature=pd.merge(\n",
    "    pd.merge(\n",
    "        df_ft_active,\n",
    "        df_ts_feature.reset_index(names='row_id'),\n",
    "        on='row_id'\n",
    "    ),\n",
    "    df_label,\n",
    "    on='row_id'\n",
    ")"
   ]
  },
  {
   "attachments": {},
   "cell_type": "markdown",
   "metadata": {},
   "source": [
    "## Training"
   ]
  },
  {
   "cell_type": "code",
   "execution_count": 17,
   "metadata": {},
   "outputs": [],
   "source": [
    "pivot_train=datetime(2022,1,1)"
   ]
  },
  {
   "cell_type": "code",
   "execution_count": 18,
   "metadata": {},
   "outputs": [],
   "source": [
    "df_train=df_final_feature.loc[lambda x:x.first_day_of_month<pivot_train]"
   ]
  },
  {
   "cell_type": "code",
   "execution_count": null,
   "metadata": {},
   "outputs": [],
   "source": [
    "df_eval=df_final_feature.loc[lambda x:x.first_day_of_month>pivot_train]\n"
   ]
  },
  {
   "cell_type": "code",
   "execution_count": 125,
   "metadata": {},
   "outputs": [],
   "source": [
    "xgb=XGBRegressor(tree_method='gpu_hist', gpu_id=0,predictor='gpu_predictor',n_estimators=600,max_depth=64,max_leaves=2,learning_rate=.3)"
   ]
  },
  {
   "cell_type": "code",
   "execution_count": 126,
   "metadata": {},
   "outputs": [
    {
     "data": {
      "text/html": [
       "<style>#sk-container-id-21 {color: black;background-color: white;}#sk-container-id-21 pre{padding: 0;}#sk-container-id-21 div.sk-toggleable {background-color: white;}#sk-container-id-21 label.sk-toggleable__label {cursor: pointer;display: block;width: 100%;margin-bottom: 0;padding: 0.3em;box-sizing: border-box;text-align: center;}#sk-container-id-21 label.sk-toggleable__label-arrow:before {content: \"▸\";float: left;margin-right: 0.25em;color: #696969;}#sk-container-id-21 label.sk-toggleable__label-arrow:hover:before {color: black;}#sk-container-id-21 div.sk-estimator:hover label.sk-toggleable__label-arrow:before {color: black;}#sk-container-id-21 div.sk-toggleable__content {max-height: 0;max-width: 0;overflow: hidden;text-align: left;background-color: #f0f8ff;}#sk-container-id-21 div.sk-toggleable__content pre {margin: 0.2em;color: black;border-radius: 0.25em;background-color: #f0f8ff;}#sk-container-id-21 input.sk-toggleable__control:checked~div.sk-toggleable__content {max-height: 200px;max-width: 100%;overflow: auto;}#sk-container-id-21 input.sk-toggleable__control:checked~label.sk-toggleable__label-arrow:before {content: \"▾\";}#sk-container-id-21 div.sk-estimator input.sk-toggleable__control:checked~label.sk-toggleable__label {background-color: #d4ebff;}#sk-container-id-21 div.sk-label input.sk-toggleable__control:checked~label.sk-toggleable__label {background-color: #d4ebff;}#sk-container-id-21 input.sk-hidden--visually {border: 0;clip: rect(1px 1px 1px 1px);clip: rect(1px, 1px, 1px, 1px);height: 1px;margin: -1px;overflow: hidden;padding: 0;position: absolute;width: 1px;}#sk-container-id-21 div.sk-estimator {font-family: monospace;background-color: #f0f8ff;border: 1px dotted black;border-radius: 0.25em;box-sizing: border-box;margin-bottom: 0.5em;}#sk-container-id-21 div.sk-estimator:hover {background-color: #d4ebff;}#sk-container-id-21 div.sk-parallel-item::after {content: \"\";width: 100%;border-bottom: 1px solid gray;flex-grow: 1;}#sk-container-id-21 div.sk-label:hover label.sk-toggleable__label {background-color: #d4ebff;}#sk-container-id-21 div.sk-serial::before {content: \"\";position: absolute;border-left: 1px solid gray;box-sizing: border-box;top: 0;bottom: 0;left: 50%;z-index: 0;}#sk-container-id-21 div.sk-serial {display: flex;flex-direction: column;align-items: center;background-color: white;padding-right: 0.2em;padding-left: 0.2em;position: relative;}#sk-container-id-21 div.sk-item {position: relative;z-index: 1;}#sk-container-id-21 div.sk-parallel {display: flex;align-items: stretch;justify-content: center;background-color: white;position: relative;}#sk-container-id-21 div.sk-item::before, #sk-container-id-21 div.sk-parallel-item::before {content: \"\";position: absolute;border-left: 1px solid gray;box-sizing: border-box;top: 0;bottom: 0;left: 50%;z-index: -1;}#sk-container-id-21 div.sk-parallel-item {display: flex;flex-direction: column;z-index: 1;position: relative;background-color: white;}#sk-container-id-21 div.sk-parallel-item:first-child::after {align-self: flex-end;width: 50%;}#sk-container-id-21 div.sk-parallel-item:last-child::after {align-self: flex-start;width: 50%;}#sk-container-id-21 div.sk-parallel-item:only-child::after {width: 0;}#sk-container-id-21 div.sk-dashed-wrapped {border: 1px dashed gray;margin: 0 0.4em 0.5em 0.4em;box-sizing: border-box;padding-bottom: 0.4em;background-color: white;}#sk-container-id-21 div.sk-label label {font-family: monospace;font-weight: bold;display: inline-block;line-height: 1.2em;}#sk-container-id-21 div.sk-label-container {text-align: center;}#sk-container-id-21 div.sk-container {/* jupyter's `normalize.less` sets `[hidden] { display: none; }` but bootstrap.min.css set `[hidden] { display: none !important; }` so we also need the `!important` here to be able to override the default hidden behavior on the sphinx rendered scikit-learn.org. See: https://github.com/scikit-learn/scikit-learn/issues/21755 */display: inline-block !important;position: relative;}#sk-container-id-21 div.sk-text-repr-fallback {display: none;}</style><div id=\"sk-container-id-21\" class=\"sk-top-container\"><div class=\"sk-text-repr-fallback\"><pre>XGBRegressor(base_score=0.5, booster=&#x27;gbtree&#x27;, callbacks=None,\n",
       "             colsample_bylevel=1, colsample_bynode=1, colsample_bytree=1,\n",
       "             early_stopping_rounds=None, enable_categorical=False,\n",
       "             eval_metric=None, feature_types=None, gamma=0, gpu_id=0,\n",
       "             grow_policy=&#x27;depthwise&#x27;, importance_type=None,\n",
       "             interaction_constraints=&#x27;&#x27;, learning_rate=0.3, max_bin=256,\n",
       "             max_cat_threshold=64, max_cat_to_onehot=4, max_delta_step=0,\n",
       "             max_depth=64, max_leaves=2, min_child_weight=1, missing=nan,\n",
       "             monotone_constraints=&#x27;()&#x27;, n_estimators=600, n_jobs=0,\n",
       "             num_parallel_tree=1, predictor=&#x27;gpu_predictor&#x27;, random_state=0, ...)</pre><b>In a Jupyter environment, please rerun this cell to show the HTML representation or trust the notebook. <br />On GitHub, the HTML representation is unable to render, please try loading this page with nbviewer.org.</b></div><div class=\"sk-container\" hidden><div class=\"sk-item\"><div class=\"sk-estimator sk-toggleable\"><input class=\"sk-toggleable__control sk-hidden--visually\" id=\"sk-estimator-id-21\" type=\"checkbox\" checked><label for=\"sk-estimator-id-21\" class=\"sk-toggleable__label sk-toggleable__label-arrow\">XGBRegressor</label><div class=\"sk-toggleable__content\"><pre>XGBRegressor(base_score=0.5, booster=&#x27;gbtree&#x27;, callbacks=None,\n",
       "             colsample_bylevel=1, colsample_bynode=1, colsample_bytree=1,\n",
       "             early_stopping_rounds=None, enable_categorical=False,\n",
       "             eval_metric=None, feature_types=None, gamma=0, gpu_id=0,\n",
       "             grow_policy=&#x27;depthwise&#x27;, importance_type=None,\n",
       "             interaction_constraints=&#x27;&#x27;, learning_rate=0.3, max_bin=256,\n",
       "             max_cat_threshold=64, max_cat_to_onehot=4, max_delta_step=0,\n",
       "             max_depth=64, max_leaves=2, min_child_weight=1, missing=nan,\n",
       "             monotone_constraints=&#x27;()&#x27;, n_estimators=600, n_jobs=0,\n",
       "             num_parallel_tree=1, predictor=&#x27;gpu_predictor&#x27;, random_state=0, ...)</pre></div></div></div></div></div>"
      ],
      "text/plain": [
       "XGBRegressor(base_score=0.5, booster='gbtree', callbacks=None,\n",
       "             colsample_bylevel=1, colsample_bynode=1, colsample_bytree=1,\n",
       "             early_stopping_rounds=None, enable_categorical=False,\n",
       "             eval_metric=None, feature_types=None, gamma=0, gpu_id=0,\n",
       "             grow_policy='depthwise', importance_type=None,\n",
       "             interaction_constraints='', learning_rate=0.3, max_bin=256,\n",
       "             max_cat_threshold=64, max_cat_to_onehot=4, max_delta_step=0,\n",
       "             max_depth=64, max_leaves=2, min_child_weight=1, missing=nan,\n",
       "             monotone_constraints='()', n_estimators=600, n_jobs=0,\n",
       "             num_parallel_tree=1, predictor='gpu_predictor', random_state=0, ...)"
      ]
     },
     "execution_count": 126,
     "metadata": {},
     "output_type": "execute_result"
    }
   ],
   "source": [
    "xgb.fit(\n",
    "    df_train.iloc[:int(0.7*len(df_train))].drop(['first_day_of_month','target','row_id'],axis=1),\n",
    "    df_train.iloc[:int(0.7*(len(df_train)))]['target']\n",
    ")"
   ]
  },
  {
   "cell_type": "code",
   "execution_count": 127,
   "metadata": {},
   "outputs": [
    {
     "data": {
      "text/plain": [
       "0.0003889028661403552"
      ]
     },
     "execution_count": 127,
     "metadata": {},
     "output_type": "execute_result"
    }
   ],
   "source": [
    "mean_squared_error(\n",
    "    df_train.iloc[int(0.7*(len(df_train))):]['target'],\n",
    "    xgb.predict(df_train.iloc[int(0.7*(len(df_train))):].drop(['first_day_of_month','target','row_id'],axis=1).replace({np.inf:0,-np.inf:0}))\n",
    ")"
   ]
  },
  {
   "cell_type": "code",
   "execution_count": 128,
   "metadata": {},
   "outputs": [
    {
     "data": {
      "text/plain": [
       "array([-0.00391972, -0.00313139,  0.00554517, ...,  0.00363034,\n",
       "        0.00284216, -0.00049043], dtype=float32)"
      ]
     },
     "execution_count": 128,
     "metadata": {},
     "output_type": "execute_result"
    }
   ],
   "source": [
    "xgb.predict(df_train.iloc[int(0.7*(len(df_train))):].drop(['first_day_of_month','target','row_id'],axis=1).replace({np.inf:0,-np.inf:0}))\n"
   ]
  },
  {
   "cell_type": "code",
   "execution_count": 130,
   "metadata": {},
   "outputs": [
    {
     "data": {
      "text/plain": [
       "0.0003116186775949489"
      ]
     },
     "execution_count": 130,
     "metadata": {},
     "output_type": "execute_result"
    }
   ],
   "source": [
    "mean_squared_error(\n",
    "    df_eval.iloc[:]['target'],\n",
    "    xgb.predict(df_eval.iloc[:].drop(['first_day_of_month','target','row_id'],axis=1).replace({np.inf:0,-np.inf:0}))\n",
    ")"
   ]
  },
  {
   "cell_type": "code",
   "execution_count": 131,
   "metadata": {},
   "outputs": [
    {
     "name": "stderr",
     "output_type": "stream",
     "text": [
      "/tmp/ipykernel_2287823/3217451328.py:2: SettingWithCopyWarning: \n",
      "A value is trying to be set on a copy of a slice from a DataFrame.\n",
      "Try using .loc[row_indexer,col_indexer] = value instead\n",
      "\n",
      "See the caveats in the documentation: https://pandas.pydata.org/pandas-docs/stable/user_guide/indexing.html#returning-a-view-versus-a-copy\n",
      "  df_eval_in_time['pred']=xgb.predict(df_eval.iloc[:].drop(['first_day_of_month','target','row_id'],axis=1).replace({np.inf:0,-np.inf:0})).tolist()\n"
     ]
    }
   ],
   "source": [
    "df_eval_in_time=df_eval[['row_id','first_day_of_month','target']]\n",
    "df_eval_in_time['pred']=xgb.predict(df_eval.iloc[:].drop(['first_day_of_month','target','row_id'],axis=1).replace({np.inf:0,-np.inf:0})).tolist()\n"
   ]
  },
  {
   "cell_type": "code",
   "execution_count": 132,
   "metadata": {},
   "outputs": [
    {
     "data": {
      "text/plain": [
       "<Axes: >"
      ]
     },
     "execution_count": 132,
     "metadata": {},
     "output_type": "execute_result"
    },
    {
     "data": {
      "image/png": "[encoded data removed]",
      "text/plain": [
       "<Figure size 640x480 with 1 Axes>"
      ]
     },
     "metadata": {},
     "output_type": "display_data"
    }
   ],
   "source": [
    "cfips=10001\n",
    "df_eval_in_time.assign(cfips=lambda x:x.row_id.str.split('_').str[0].apply(int)).query('cfips==@cfips')\\\n",
    "    .sort_values('first_day_of_month')[['target','pred']].plot()"
   ]
  },
  {
   "cell_type": "code",
   "execution_count": null,
   "metadata": {},
   "outputs": [],
   "source": []
  }
 ],
 "metadata": {
  "kernelspec": {
   "display_name": "Python 3",
   "language": "python",
   "name": "python3"
  },
  "language_info": {
   "codemirror_mode": {
    "name": "ipython",
    "version": 3
   },
   "file_extension": ".py",
   "mimetype": "text/x-python",
   "name": "python",
   "nbconvert_exporter": "python",
   "pygments_lexer": "ipython3",
   "version": "3.8.16"
  },
  "orig_nbformat": 4,
  "vscode": {
   "interpreter": {
    "hash": "3d219d1c7b2bb650bc922be83f209160f8ff81cb87f1a527e8eba317683a8aff"
   }
  }
 },
 "nbformat": 4,
 "nbformat_minor": 2
}
