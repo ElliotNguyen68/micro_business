{
 "cells": [
  {
   "cell_type": "code",
   "execution_count": 406,
   "metadata": {},
   "outputs": [],
   "source": [
    "import os\n",
    "from pathlib import Path\n",
    "os.chdir(str(Path(os.getcwd()).parent.absolute()))\n",
    "from datetime import date,datetime,timedelta\n",
    "from importlib import reload\n",
    "from dateutil.relativedelta import relativedelta\n",
    "\n",
    "import cudf\n",
    "import dask_cudf\n",
    "import pandas as pd\n",
    "import cupy\n",
    "import cuml\n",
    "from xgboost import XGBRegressor\n",
    "from sklearn.metrics import mean_absolute_percentage_error,mean_squared_error\n",
    "import numpy as np\n",
    "\n",
    "from src.metric.loss import symmetric_mean_absolute_percentage_error as smape\n",
    "from multiprocessing import Manager,Queue,Pool"
   ]
  },
  {
   "cell_type": "code",
   "execution_count": 2,
   "metadata": {},
   "outputs": [],
   "source": [
    "from tsfresh.feature_extraction import extract_features"
   ]
  },
  {
   "cell_type": "code",
   "execution_count": 3,
   "metadata": {},
   "outputs": [],
   "source": [
    "df=pd.read_csv('data/train.csv')"
   ]
  },
  {
   "cell_type": "code",
   "execution_count": 4,
   "metadata": {},
   "outputs": [
    {
     "data": {
      "text/html": [
       "<div>\n",
       "<style scoped>\n",
       "    .dataframe tbody tr th:only-of-type {\n",
       "        vertical-align: middle;\n",
       "    }\n",
       "\n",
       "    .dataframe tbody tr th {\n",
       "        vertical-align: top;\n",
       "    }\n",
       "\n",
       "    .dataframe thead th {\n",
       "        text-align: right;\n",
       "    }\n",
       "</style>\n",
       "<table border=\"1\" class=\"dataframe\">\n",
       "  <thead>\n",
       "    <tr style=\"text-align: right;\">\n",
       "      <th></th>\n",
       "      <th>row_id</th>\n",
       "      <th>cfips</th>\n",
       "      <th>county</th>\n",
       "      <th>state</th>\n",
       "      <th>first_day_of_month</th>\n",
       "      <th>microbusiness_density</th>\n",
       "      <th>active</th>\n",
       "    </tr>\n",
       "  </thead>\n",
       "  <tbody>\n",
       "    <tr>\n",
       "      <th>0</th>\n",
       "      <td>1001_2019-08-01</td>\n",
       "      <td>1001</td>\n",
       "      <td>Autauga County</td>\n",
       "      <td>Alabama</td>\n",
       "      <td>2019-08-01</td>\n",
       "      <td>3.007682</td>\n",
       "      <td>1249</td>\n",
       "    </tr>\n",
       "    <tr>\n",
       "      <th>1</th>\n",
       "      <td>1001_2019-09-01</td>\n",
       "      <td>1001</td>\n",
       "      <td>Autauga County</td>\n",
       "      <td>Alabama</td>\n",
       "      <td>2019-09-01</td>\n",
       "      <td>2.884870</td>\n",
       "      <td>1198</td>\n",
       "    </tr>\n",
       "    <tr>\n",
       "      <th>2</th>\n",
       "      <td>1001_2019-10-01</td>\n",
       "      <td>1001</td>\n",
       "      <td>Autauga County</td>\n",
       "      <td>Alabama</td>\n",
       "      <td>2019-10-01</td>\n",
       "      <td>3.055843</td>\n",
       "      <td>1269</td>\n",
       "    </tr>\n",
       "    <tr>\n",
       "      <th>3</th>\n",
       "      <td>1001_2019-11-01</td>\n",
       "      <td>1001</td>\n",
       "      <td>Autauga County</td>\n",
       "      <td>Alabama</td>\n",
       "      <td>2019-11-01</td>\n",
       "      <td>2.993233</td>\n",
       "      <td>1243</td>\n",
       "    </tr>\n",
       "    <tr>\n",
       "      <th>4</th>\n",
       "      <td>1001_2019-12-01</td>\n",
       "      <td>1001</td>\n",
       "      <td>Autauga County</td>\n",
       "      <td>Alabama</td>\n",
       "      <td>2019-12-01</td>\n",
       "      <td>2.993233</td>\n",
       "      <td>1243</td>\n",
       "    </tr>\n",
       "    <tr>\n",
       "      <th>...</th>\n",
       "      <td>...</td>\n",
       "      <td>...</td>\n",
       "      <td>...</td>\n",
       "      <td>...</td>\n",
       "      <td>...</td>\n",
       "      <td>...</td>\n",
       "      <td>...</td>\n",
       "    </tr>\n",
       "    <tr>\n",
       "      <th>122260</th>\n",
       "      <td>56045_2022-06-01</td>\n",
       "      <td>56045</td>\n",
       "      <td>Weston County</td>\n",
       "      <td>Wyoming</td>\n",
       "      <td>2022-06-01</td>\n",
       "      <td>1.803249</td>\n",
       "      <td>101</td>\n",
       "    </tr>\n",
       "    <tr>\n",
       "      <th>122261</th>\n",
       "      <td>56045_2022-07-01</td>\n",
       "      <td>56045</td>\n",
       "      <td>Weston County</td>\n",
       "      <td>Wyoming</td>\n",
       "      <td>2022-07-01</td>\n",
       "      <td>1.803249</td>\n",
       "      <td>101</td>\n",
       "    </tr>\n",
       "    <tr>\n",
       "      <th>122262</th>\n",
       "      <td>56045_2022-08-01</td>\n",
       "      <td>56045</td>\n",
       "      <td>Weston County</td>\n",
       "      <td>Wyoming</td>\n",
       "      <td>2022-08-01</td>\n",
       "      <td>1.785395</td>\n",
       "      <td>100</td>\n",
       "    </tr>\n",
       "    <tr>\n",
       "      <th>122263</th>\n",
       "      <td>56045_2022-09-01</td>\n",
       "      <td>56045</td>\n",
       "      <td>Weston County</td>\n",
       "      <td>Wyoming</td>\n",
       "      <td>2022-09-01</td>\n",
       "      <td>1.785395</td>\n",
       "      <td>100</td>\n",
       "    </tr>\n",
       "    <tr>\n",
       "      <th>122264</th>\n",
       "      <td>56045_2022-10-01</td>\n",
       "      <td>56045</td>\n",
       "      <td>Weston County</td>\n",
       "      <td>Wyoming</td>\n",
       "      <td>2022-10-01</td>\n",
       "      <td>1.785395</td>\n",
       "      <td>100</td>\n",
       "    </tr>\n",
       "  </tbody>\n",
       "</table>\n",
       "<p>122265 rows × 7 columns</p>\n",
       "</div>"
      ],
      "text/plain": [
       "                  row_id  cfips          county    state first_day_of_month  \\\n",
       "0        1001_2019-08-01   1001  Autauga County  Alabama         2019-08-01   \n",
       "1        1001_2019-09-01   1001  Autauga County  Alabama         2019-09-01   \n",
       "2        1001_2019-10-01   1001  Autauga County  Alabama         2019-10-01   \n",
       "3        1001_2019-11-01   1001  Autauga County  Alabama         2019-11-01   \n",
       "4        1001_2019-12-01   1001  Autauga County  Alabama         2019-12-01   \n",
       "...                  ...    ...             ...      ...                ...   \n",
       "122260  56045_2022-06-01  56045   Weston County  Wyoming         2022-06-01   \n",
       "122261  56045_2022-07-01  56045   Weston County  Wyoming         2022-07-01   \n",
       "122262  56045_2022-08-01  56045   Weston County  Wyoming         2022-08-01   \n",
       "122263  56045_2022-09-01  56045   Weston County  Wyoming         2022-09-01   \n",
       "122264  56045_2022-10-01  56045   Weston County  Wyoming         2022-10-01   \n",
       "\n",
       "        microbusiness_density  active  \n",
       "0                    3.007682    1249  \n",
       "1                    2.884870    1198  \n",
       "2                    3.055843    1269  \n",
       "3                    2.993233    1243  \n",
       "4                    2.993233    1243  \n",
       "...                       ...     ...  \n",
       "122260               1.803249     101  \n",
       "122261               1.803249     101  \n",
       "122262               1.785395     100  \n",
       "122263               1.785395     100  \n",
       "122264               1.785395     100  \n",
       "\n",
       "[122265 rows x 7 columns]"
      ]
     },
     "execution_count": 4,
     "metadata": {},
     "output_type": "execute_result"
    }
   ],
   "source": [
    "df"
   ]
  },
  {
   "cell_type": "code",
   "execution_count": 5,
   "metadata": {},
   "outputs": [],
   "source": [
    "df['first_day_of_month']=pd.to_datetime(df['first_day_of_month'])"
   ]
  },
  {
   "cell_type": "code",
   "execution_count": 6,
   "metadata": {},
   "outputs": [],
   "source": [
    "features=['row_id','cfips','first_day_of_month','mcb','active']"
   ]
  },
  {
   "cell_type": "code",
   "execution_count": 7,
   "metadata": {},
   "outputs": [],
   "source": [
    "df_=(\n",
    "    df.rename(mapper={'microbusiness_density':'mcb'},axis=1)\n",
    "    .sort_values('row_id')\n",
    "    .assign(next_mcb=lambda x:x.groupby('cfips')['mcb'].shift(-1))\n",
    "    .assign(target=lambda x:(x.next_mcb-x.mcb)/x.mcb)\n",
    ")"
   ]
  },
  {
   "cell_type": "code",
   "execution_count": 8,
   "metadata": {},
   "outputs": [],
   "source": [
    "\n",
    "features=['row_id', 'cfips', 'first_day_of_month', 'target','active']"
   ]
  },
  {
   "cell_type": "code",
   "execution_count": 9,
   "metadata": {},
   "outputs": [],
   "source": [
    "df_label=df_[['row_id','target','first_day_of_month']].dropna()\n",
    "df_label['target']=df_label['target'].clip(-.05,.05)"
   ]
  },
  {
   "cell_type": "code",
   "execution_count": 10,
   "metadata": {},
   "outputs": [],
   "source": [
    "df_feature_1=df_[features].copy(deep=True).rename({'first_day_of_month':'dt1','target':'target_1'},axis=1)\n",
    "df_feature_2=df_[features].copy(deep=True).rename({'first_day_of_month':'dt2','target':'target_2'},axis=1).drop(['active'],axis=1)"
   ]
  },
  {
   "cell_type": "code",
   "execution_count": 11,
   "metadata": {},
   "outputs": [],
   "source": [
    "df_join=pd.merge(\n",
    "    df_feature_1.drop(['row_id'],axis=1),\n",
    "    df_feature_2,\n",
    "    on='cfips'\n",
    ").loc[lambda x:x.dt2>x.dt1].sort_values(['row_id','dt1'])[['row_id','target_1','dt1','active']].fillna(0)"
   ]
  },
  {
   "cell_type": "code",
   "execution_count": 12,
   "metadata": {},
   "outputs": [],
   "source": [
    "df_join['target_1']=df_join['target_1'].clip(-.05,.05)"
   ]
  },
  {
   "cell_type": "code",
   "execution_count": 13,
   "metadata": {},
   "outputs": [
    {
     "name": "stderr",
     "output_type": "stream",
     "text": [
      "Feature Extraction: 100%|██████████| 160/160 [02:47<00:00,  1.05s/it]\n"
     ]
    }
   ],
   "source": [
    "df_ts_feature=extract_features(df_join.drop(['active'],axis=1),column_id='row_id',column_sort='dt1')"
   ]
  },
  {
   "cell_type": "code",
   "execution_count": 14,
   "metadata": {},
   "outputs": [],
   "source": [
    "df_ft_active=df_join.groupby('row_id').agg(\n",
    "    # last_active=('active',),\n",
    "    # first_active=('active',pd.),\n",
    "    mean_active=('active',np.mean),\n",
    "    med_active=('active',np.median),\n",
    "    max_active=('active',np.max),\n",
    "    min_active=('active',np.min),\n",
    ")\n",
    "df_ft_active['last_active']=df_join.groupby('row_id')['active'].last()\n",
    "df_ft_active['first_active']=df_join.groupby('row_id')['active'].first()\n",
    "df_ft_active.reset_index(inplace=True)"
   ]
  },
  {
   "cell_type": "code",
   "execution_count": 15,
   "metadata": {},
   "outputs": [
    {
     "data": {
      "text/html": [
       "<div>\n",
       "<style scoped>\n",
       "    .dataframe tbody tr th:only-of-type {\n",
       "        vertical-align: middle;\n",
       "    }\n",
       "\n",
       "    .dataframe tbody tr th {\n",
       "        vertical-align: top;\n",
       "    }\n",
       "\n",
       "    .dataframe thead th {\n",
       "        text-align: right;\n",
       "    }\n",
       "</style>\n",
       "<table border=\"1\" class=\"dataframe\">\n",
       "  <thead>\n",
       "    <tr style=\"text-align: right;\">\n",
       "      <th></th>\n",
       "      <th>row_id</th>\n",
       "      <th>mean_active</th>\n",
       "      <th>med_active</th>\n",
       "      <th>max_active</th>\n",
       "      <th>min_active</th>\n",
       "      <th>last_active</th>\n",
       "      <th>first_active</th>\n",
       "    </tr>\n",
       "  </thead>\n",
       "  <tbody>\n",
       "    <tr>\n",
       "      <th>0</th>\n",
       "      <td>10001_2019-09-01</td>\n",
       "      <td>6624.000000</td>\n",
       "      <td>6624.0</td>\n",
       "      <td>6624</td>\n",
       "      <td>6624</td>\n",
       "      <td>6624</td>\n",
       "      <td>6624</td>\n",
       "    </tr>\n",
       "    <tr>\n",
       "      <th>1</th>\n",
       "      <td>10001_2019-10-01</td>\n",
       "      <td>6648.000000</td>\n",
       "      <td>6648.0</td>\n",
       "      <td>6672</td>\n",
       "      <td>6624</td>\n",
       "      <td>6672</td>\n",
       "      <td>6624</td>\n",
       "    </tr>\n",
       "    <tr>\n",
       "      <th>2</th>\n",
       "      <td>10001_2019-11-01</td>\n",
       "      <td>6685.333333</td>\n",
       "      <td>6672.0</td>\n",
       "      <td>6760</td>\n",
       "      <td>6624</td>\n",
       "      <td>6760</td>\n",
       "      <td>6624</td>\n",
       "    </tr>\n",
       "    <tr>\n",
       "      <th>3</th>\n",
       "      <td>10001_2019-12-01</td>\n",
       "      <td>6712.750000</td>\n",
       "      <td>6716.0</td>\n",
       "      <td>6795</td>\n",
       "      <td>6624</td>\n",
       "      <td>6795</td>\n",
       "      <td>6624</td>\n",
       "    </tr>\n",
       "    <tr>\n",
       "      <th>4</th>\n",
       "      <td>10001_2020-01-01</td>\n",
       "      <td>6719.000000</td>\n",
       "      <td>6744.0</td>\n",
       "      <td>6795</td>\n",
       "      <td>6624</td>\n",
       "      <td>6744</td>\n",
       "      <td>6624</td>\n",
       "    </tr>\n",
       "    <tr>\n",
       "      <th>...</th>\n",
       "      <td>...</td>\n",
       "      <td>...</td>\n",
       "      <td>...</td>\n",
       "      <td>...</td>\n",
       "      <td>...</td>\n",
       "      <td>...</td>\n",
       "      <td>...</td>\n",
       "    </tr>\n",
       "    <tr>\n",
       "      <th>119125</th>\n",
       "      <td>9015_2022-06-01</td>\n",
       "      <td>3496.882353</td>\n",
       "      <td>3461.5</td>\n",
       "      <td>3792</td>\n",
       "      <td>3266</td>\n",
       "      <td>3296</td>\n",
       "      <td>3440</td>\n",
       "    </tr>\n",
       "    <tr>\n",
       "      <th>119126</th>\n",
       "      <td>9015_2022-07-01</td>\n",
       "      <td>3491.085714</td>\n",
       "      <td>3440.0</td>\n",
       "      <td>3792</td>\n",
       "      <td>3266</td>\n",
       "      <td>3294</td>\n",
       "      <td>3440</td>\n",
       "    </tr>\n",
       "    <tr>\n",
       "      <th>119127</th>\n",
       "      <td>9015_2022-08-01</td>\n",
       "      <td>3486.972222</td>\n",
       "      <td>3414.0</td>\n",
       "      <td>3792</td>\n",
       "      <td>3266</td>\n",
       "      <td>3343</td>\n",
       "      <td>3440</td>\n",
       "    </tr>\n",
       "    <tr>\n",
       "      <th>119128</th>\n",
       "      <td>9015_2022-09-01</td>\n",
       "      <td>3482.540541</td>\n",
       "      <td>3388.0</td>\n",
       "      <td>3792</td>\n",
       "      <td>3266</td>\n",
       "      <td>3323</td>\n",
       "      <td>3440</td>\n",
       "    </tr>\n",
       "    <tr>\n",
       "      <th>119129</th>\n",
       "      <td>9015_2022-10-01</td>\n",
       "      <td>3478.710526</td>\n",
       "      <td>3365.5</td>\n",
       "      <td>3792</td>\n",
       "      <td>3266</td>\n",
       "      <td>3337</td>\n",
       "      <td>3440</td>\n",
       "    </tr>\n",
       "  </tbody>\n",
       "</table>\n",
       "<p>119130 rows × 7 columns</p>\n",
       "</div>"
      ],
      "text/plain": [
       "                  row_id  mean_active  med_active  max_active  min_active  \\\n",
       "0       10001_2019-09-01  6624.000000      6624.0        6624        6624   \n",
       "1       10001_2019-10-01  6648.000000      6648.0        6672        6624   \n",
       "2       10001_2019-11-01  6685.333333      6672.0        6760        6624   \n",
       "3       10001_2019-12-01  6712.750000      6716.0        6795        6624   \n",
       "4       10001_2020-01-01  6719.000000      6744.0        6795        6624   \n",
       "...                  ...          ...         ...         ...         ...   \n",
       "119125   9015_2022-06-01  3496.882353      3461.5        3792        3266   \n",
       "119126   9015_2022-07-01  3491.085714      3440.0        3792        3266   \n",
       "119127   9015_2022-08-01  3486.972222      3414.0        3792        3266   \n",
       "119128   9015_2022-09-01  3482.540541      3388.0        3792        3266   \n",
       "119129   9015_2022-10-01  3478.710526      3365.5        3792        3266   \n",
       "\n",
       "        last_active  first_active  \n",
       "0              6624          6624  \n",
       "1              6672          6624  \n",
       "2              6760          6624  \n",
       "3              6795          6624  \n",
       "4              6744          6624  \n",
       "...             ...           ...  \n",
       "119125         3296          3440  \n",
       "119126         3294          3440  \n",
       "119127         3343          3440  \n",
       "119128         3323          3440  \n",
       "119129         3337          3440  \n",
       "\n",
       "[119130 rows x 7 columns]"
      ]
     },
     "execution_count": 15,
     "metadata": {},
     "output_type": "execute_result"
    }
   ],
   "source": [
    "df_ft_active"
   ]
  },
  {
   "cell_type": "code",
   "execution_count": 16,
   "metadata": {},
   "outputs": [],
   "source": [
    "df_final_feature=pd.merge(\n",
    "    pd.merge(\n",
    "        df_ft_active,\n",
    "        df_ts_feature.reset_index(names='row_id'),\n",
    "        on='row_id'\n",
    "    ),\n",
    "    df_label,\n",
    "    on='row_id'\n",
    ")"
   ]
  },
  {
   "attachments": {},
   "cell_type": "markdown",
   "metadata": {},
   "source": [
    "## Training"
   ]
  },
  {
   "cell_type": "code",
   "execution_count": 17,
   "metadata": {},
   "outputs": [],
   "source": [
    "pivot_train=datetime(2022,1,1)"
   ]
  },
  {
   "cell_type": "code",
   "execution_count": 260,
   "metadata": {},
   "outputs": [],
   "source": [
    "df_train=df_final_feature.loc[lambda x:x.first_day_of_month<pivot_train].sample(frac=1).reset_index(drop=True)"
   ]
  },
  {
   "cell_type": "code",
   "execution_count": 261,
   "metadata": {},
   "outputs": [],
   "source": [
    "df_eval=df_final_feature.loc[lambda x:x.first_day_of_month>pivot_train].sample(frac=1).reset_index(drop=True)\n"
   ]
  },
  {
   "cell_type": "code",
   "execution_count": 396,
   "metadata": {},
   "outputs": [],
   "source": [
    "xgb=XGBRegressor(tree_method='gpu_hist', gpu_id=0,predictor='gpu_predictor',        objective='reg:pseudohubererror',\n",
    "        #objective='reg:squarederror',\n",
    "        n_estimators=7000,\n",
    "        learning_rate=0.5,\n",
    "        max_leaves = 14,\n",
    "        max_depth=18,\n",
    "        # subsample=0.50,\n",
    "        colsample_bytree=0.50,\n",
    "        max_bin=512,\n",
    "        reg_lambda=1.5,\n",
    "        gamma=1.5,\n",
    "        n_jobs=2,\n",
    ")"
   ]
  },
  {
   "cell_type": "code",
   "execution_count": 397,
   "metadata": {},
   "outputs": [
    {
     "data": {
      "text/html": [
       "<style>#sk-container-id-24 {color: black;background-color: white;}#sk-container-id-24 pre{padding: 0;}#sk-container-id-24 div.sk-toggleable {background-color: white;}#sk-container-id-24 label.sk-toggleable__label {cursor: pointer;display: block;width: 100%;margin-bottom: 0;padding: 0.3em;box-sizing: border-box;text-align: center;}#sk-container-id-24 label.sk-toggleable__label-arrow:before {content: \"▸\";float: left;margin-right: 0.25em;color: #696969;}#sk-container-id-24 label.sk-toggleable__label-arrow:hover:before {color: black;}#sk-container-id-24 div.sk-estimator:hover label.sk-toggleable__label-arrow:before {color: black;}#sk-container-id-24 div.sk-toggleable__content {max-height: 0;max-width: 0;overflow: hidden;text-align: left;background-color: #f0f8ff;}#sk-container-id-24 div.sk-toggleable__content pre {margin: 0.2em;color: black;border-radius: 0.25em;background-color: #f0f8ff;}#sk-container-id-24 input.sk-toggleable__control:checked~div.sk-toggleable__content {max-height: 200px;max-width: 100%;overflow: auto;}#sk-container-id-24 input.sk-toggleable__control:checked~label.sk-toggleable__label-arrow:before {content: \"▾\";}#sk-container-id-24 div.sk-estimator input.sk-toggleable__control:checked~label.sk-toggleable__label {background-color: #d4ebff;}#sk-container-id-24 div.sk-label input.sk-toggleable__control:checked~label.sk-toggleable__label {background-color: #d4ebff;}#sk-container-id-24 input.sk-hidden--visually {border: 0;clip: rect(1px 1px 1px 1px);clip: rect(1px, 1px, 1px, 1px);height: 1px;margin: -1px;overflow: hidden;padding: 0;position: absolute;width: 1px;}#sk-container-id-24 div.sk-estimator {font-family: monospace;background-color: #f0f8ff;border: 1px dotted black;border-radius: 0.25em;box-sizing: border-box;margin-bottom: 0.5em;}#sk-container-id-24 div.sk-estimator:hover {background-color: #d4ebff;}#sk-container-id-24 div.sk-parallel-item::after {content: \"\";width: 100%;border-bottom: 1px solid gray;flex-grow: 1;}#sk-container-id-24 div.sk-label:hover label.sk-toggleable__label {background-color: #d4ebff;}#sk-container-id-24 div.sk-serial::before {content: \"\";position: absolute;border-left: 1px solid gray;box-sizing: border-box;top: 0;bottom: 0;left: 50%;z-index: 0;}#sk-container-id-24 div.sk-serial {display: flex;flex-direction: column;align-items: center;background-color: white;padding-right: 0.2em;padding-left: 0.2em;position: relative;}#sk-container-id-24 div.sk-item {position: relative;z-index: 1;}#sk-container-id-24 div.sk-parallel {display: flex;align-items: stretch;justify-content: center;background-color: white;position: relative;}#sk-container-id-24 div.sk-item::before, #sk-container-id-24 div.sk-parallel-item::before {content: \"\";position: absolute;border-left: 1px solid gray;box-sizing: border-box;top: 0;bottom: 0;left: 50%;z-index: -1;}#sk-container-id-24 div.sk-parallel-item {display: flex;flex-direction: column;z-index: 1;position: relative;background-color: white;}#sk-container-id-24 div.sk-parallel-item:first-child::after {align-self: flex-end;width: 50%;}#sk-container-id-24 div.sk-parallel-item:last-child::after {align-self: flex-start;width: 50%;}#sk-container-id-24 div.sk-parallel-item:only-child::after {width: 0;}#sk-container-id-24 div.sk-dashed-wrapped {border: 1px dashed gray;margin: 0 0.4em 0.5em 0.4em;box-sizing: border-box;padding-bottom: 0.4em;background-color: white;}#sk-container-id-24 div.sk-label label {font-family: monospace;font-weight: bold;display: inline-block;line-height: 1.2em;}#sk-container-id-24 div.sk-label-container {text-align: center;}#sk-container-id-24 div.sk-container {/* jupyter's `normalize.less` sets `[hidden] { display: none; }` but bootstrap.min.css set `[hidden] { display: none !important; }` so we also need the `!important` here to be able to override the default hidden behavior on the sphinx rendered scikit-learn.org. See: https://github.com/scikit-learn/scikit-learn/issues/21755 */display: inline-block !important;position: relative;}#sk-container-id-24 div.sk-text-repr-fallback {display: none;}</style><div id=\"sk-container-id-24\" class=\"sk-top-container\"><div class=\"sk-text-repr-fallback\"><pre>XGBRegressor(base_score=0.5, booster=&#x27;gbtree&#x27;, callbacks=None,\n",
       "             colsample_bylevel=1, colsample_bynode=1, colsample_bytree=0.5,\n",
       "             early_stopping_rounds=None, enable_categorical=False,\n",
       "             eval_metric=None, feature_types=None, gamma=1.5, gpu_id=0,\n",
       "             grow_policy=&#x27;depthwise&#x27;, importance_type=None,\n",
       "             interaction_constraints=&#x27;&#x27;, learning_rate=0.5, max_bin=512,\n",
       "             max_cat_threshold=64, max_cat_to_onehot=4, max_delta_step=0,\n",
       "             max_depth=18, max_leaves=14, min_child_weight=1, missing=nan,\n",
       "             monotone_constraints=&#x27;()&#x27;, n_estimators=7000, n_jobs=2,\n",
       "             num_parallel_tree=1, objective=&#x27;reg:pseudohubererror&#x27;,\n",
       "             predictor=&#x27;gpu_predictor&#x27;, ...)</pre><b>In a Jupyter environment, please rerun this cell to show the HTML representation or trust the notebook. <br />On GitHub, the HTML representation is unable to render, please try loading this page with nbviewer.org.</b></div><div class=\"sk-container\" hidden><div class=\"sk-item\"><div class=\"sk-estimator sk-toggleable\"><input class=\"sk-toggleable__control sk-hidden--visually\" id=\"sk-estimator-id-24\" type=\"checkbox\" checked><label for=\"sk-estimator-id-24\" class=\"sk-toggleable__label sk-toggleable__label-arrow\">XGBRegressor</label><div class=\"sk-toggleable__content\"><pre>XGBRegressor(base_score=0.5, booster=&#x27;gbtree&#x27;, callbacks=None,\n",
       "             colsample_bylevel=1, colsample_bynode=1, colsample_bytree=0.5,\n",
       "             early_stopping_rounds=None, enable_categorical=False,\n",
       "             eval_metric=None, feature_types=None, gamma=1.5, gpu_id=0,\n",
       "             grow_policy=&#x27;depthwise&#x27;, importance_type=None,\n",
       "             interaction_constraints=&#x27;&#x27;, learning_rate=0.5, max_bin=512,\n",
       "             max_cat_threshold=64, max_cat_to_onehot=4, max_delta_step=0,\n",
       "             max_depth=18, max_leaves=14, min_child_weight=1, missing=nan,\n",
       "             monotone_constraints=&#x27;()&#x27;, n_estimators=7000, n_jobs=2,\n",
       "             num_parallel_tree=1, objective=&#x27;reg:pseudohubererror&#x27;,\n",
       "             predictor=&#x27;gpu_predictor&#x27;, ...)</pre></div></div></div></div></div>"
      ],
      "text/plain": [
       "XGBRegressor(base_score=0.5, booster='gbtree', callbacks=None,\n",
       "             colsample_bylevel=1, colsample_bynode=1, colsample_bytree=0.5,\n",
       "             early_stopping_rounds=None, enable_categorical=False,\n",
       "             eval_metric=None, feature_types=None, gamma=1.5, gpu_id=0,\n",
       "             grow_policy='depthwise', importance_type=None,\n",
       "             interaction_constraints='', learning_rate=0.5, max_bin=512,\n",
       "             max_cat_threshold=64, max_cat_to_onehot=4, max_delta_step=0,\n",
       "             max_depth=18, max_leaves=14, min_child_weight=1, missing=nan,\n",
       "             monotone_constraints='()', n_estimators=7000, n_jobs=2,\n",
       "             num_parallel_tree=1, objective='reg:pseudohubererror',\n",
       "             predictor='gpu_predictor', ...)"
      ]
     },
     "execution_count": 397,
     "metadata": {},
     "output_type": "execute_result"
    }
   ],
   "source": [
    "xgb.fit(\n",
    "    df_train.iloc[:int(0.7*len(df_train))].drop(['first_day_of_month','target','row_id'],axis=1),\n",
    "    df_train.iloc[:int(0.7*(len(df_train)))]['target']\n",
    ")"
   ]
  },
  {
   "cell_type": "code",
   "execution_count": 355,
   "metadata": {},
   "outputs": [],
   "source": [
    "val_df=df_train[xgb.feature_names_in_]\n",
    "max_val= np.nanmax(val_df[val_df!=np.inf])\n",
    "min_val=np.nanmin(val_df[val_df!=-np.inf])"
   ]
  },
  {
   "cell_type": "code",
   "execution_count": 358,
   "metadata": {},
   "outputs": [
    {
     "data": {
      "text/plain": [
       "-5747752743894727.0"
      ]
     },
     "execution_count": 358,
     "metadata": {},
     "output_type": "execute_result"
    }
   ],
   "source": [
    "df_train.iloc[int(0.7*(len(df_train))):].drop(['first_day_of_month','target','row_id'],axis=1).replace({np.inf:max_val,-np.inf:min_val}).min().min()"
   ]
  },
  {
   "cell_type": "code",
   "execution_count": 359,
   "metadata": {},
   "outputs": [
    {
     "data": {
      "text/plain": [
       "0.0004094087607162363"
      ]
     },
     "execution_count": 359,
     "metadata": {},
     "output_type": "execute_result"
    }
   ],
   "source": [
    "mean_squared_error(\n",
    "    df_train.iloc[int(0.7*(len(df_train))):]['target'],\n",
    "    xgb.predict(df_train.iloc[int(0.7*(len(df_train))):].drop(['first_day_of_month','target','row_id'],axis=1).replace({np.inf:max_val,-np.inf:min_val}))\n",
    ")"
   ]
  },
  {
   "cell_type": "code",
   "execution_count": 360,
   "metadata": {},
   "outputs": [
    {
     "data": {
      "text/plain": [
       "array([0.00061256, 0.00061256, 0.00061256, ..., 0.00061256, 0.00061256,\n",
       "       0.00061256], dtype=float32)"
      ]
     },
     "execution_count": 360,
     "metadata": {},
     "output_type": "execute_result"
    }
   ],
   "source": [
    "xgb.predict(df_train.iloc[int(0.7*(len(df_train))):].drop(['first_day_of_month','target','row_id'],axis=1).replace({np.inf:0,-np.inf:0}))\n"
   ]
  },
  {
   "cell_type": "code",
   "execution_count": 361,
   "metadata": {},
   "outputs": [
    {
     "data": {
      "text/plain": [
       "0.00029861688335251383"
      ]
     },
     "execution_count": 361,
     "metadata": {},
     "output_type": "execute_result"
    }
   ],
   "source": [
    "mean_squared_error(\n",
    "    df_eval.iloc[:]['target'],\n",
    "    xgb.predict(df_eval.iloc[:].drop(['first_day_of_month','target','row_id'],axis=1).replace({np.inf:0,-np.inf:0}))\n",
    ")"
   ]
  },
  {
   "cell_type": "code",
   "execution_count": 316,
   "metadata": {},
   "outputs": [
    {
     "name": "stderr",
     "output_type": "stream",
     "text": [
      "/tmp/ipykernel_338092/3217451328.py:2: SettingWithCopyWarning: \n",
      "A value is trying to be set on a copy of a slice from a DataFrame.\n",
      "Try using .loc[row_indexer,col_indexer] = value instead\n",
      "\n",
      "See the caveats in the documentation: https://pandas.pydata.org/pandas-docs/stable/user_guide/indexing.html#returning-a-view-versus-a-copy\n",
      "  df_eval_in_time['pred']=xgb.predict(df_eval.iloc[:].drop(['first_day_of_month','target','row_id'],axis=1).replace({np.inf:0,-np.inf:0})).tolist()\n"
     ]
    }
   ],
   "source": [
    "df_eval_in_time=df_eval[['row_id','first_day_of_month','target']]\n",
    "df_eval_in_time['pred']=xgb.predict(df_eval.iloc[:].drop(['first_day_of_month','target','row_id'],axis=1).replace({np.inf:0,-np.inf:0})).tolist()\n"
   ]
  },
  {
   "cell_type": "code",
   "execution_count": 317,
   "metadata": {},
   "outputs": [],
   "source": [
    "df_importance=pd.DataFrame(\n",
    "    {\n",
    "        'feature':xgb.feature_names_in_,\n",
    "        'score':xgb.feature_importances_\n",
    "    }\n",
    ").sort_values('score',ascending=False)"
   ]
  },
  {
   "cell_type": "code",
   "execution_count": 344,
   "metadata": {},
   "outputs": [
    {
     "data": {
      "text/plain": [
       "mean_active                                                    1.139015e+06\n",
       "med_active                                                     1.138541e+06\n",
       "max_active                                                     1.167744e+06\n",
       "min_active                                                     1.119817e+06\n",
       "last_active                                                    1.167744e+06\n",
       "                                                                   ...     \n",
       "target_1__permutation_entropy__dimension_5__tau_1              3.178054e+00\n",
       "target_1__permutation_entropy__dimension_6__tau_1              3.135494e+00\n",
       "target_1__permutation_entropy__dimension_7__tau_1              3.091042e+00\n",
       "target_1__query_similarity_count__query_None__threshold_0.0             NaN\n",
       "target_1__mean_n_absolute_max__number_of_maxima_7              5.000000e-02\n",
       "Length: 789, dtype: float64"
      ]
     },
     "execution_count": 344,
     "metadata": {},
     "output_type": "execute_result"
    }
   ],
   "source": [
    "df_train[xgb.feature_names_in_].max()"
   ]
  },
  {
   "cell_type": "code",
   "execution_count": 318,
   "metadata": {},
   "outputs": [],
   "source": [
    "df_eval_oot=pd.merge(\n",
    "    df_label,\n",
    "    df.loc[lambda x:x.first_day_of_month>=pivot_train][['row_id', 'microbusiness_density','cfips']],\n",
    "    on='row_id'\n",
    ")"
   ]
  },
  {
   "cell_type": "code",
   "execution_count": 398,
   "metadata": {},
   "outputs": [],
   "source": [
    "df_continuos=pd.merge(\n",
    "    df_label,\n",
    "    df.loc[lambda x:x.first_day_of_month<pivot_train][['row_id', 'microbusiness_density','cfips']],\n",
    "    on='row_id'\n",
    ")"
   ]
  },
  {
   "cell_type": "code",
   "execution_count": 399,
   "metadata": {},
   "outputs": [],
   "source": [
    "from src import train"
   ]
  },
  {
   "cell_type": "code",
   "execution_count": 400,
   "metadata": {},
   "outputs": [
    {
     "data": {
      "text/html": [
       "<div>\n",
       "<style scoped>\n",
       "    .dataframe tbody tr th:only-of-type {\n",
       "        vertical-align: middle;\n",
       "    }\n",
       "\n",
       "    .dataframe tbody tr th {\n",
       "        vertical-align: top;\n",
       "    }\n",
       "\n",
       "    .dataframe thead th {\n",
       "        text-align: right;\n",
       "    }\n",
       "</style>\n",
       "<table border=\"1\" class=\"dataframe\">\n",
       "  <thead>\n",
       "    <tr style=\"text-align: right;\">\n",
       "      <th></th>\n",
       "      <th>row_id</th>\n",
       "      <th>target</th>\n",
       "      <th>first_day_of_month</th>\n",
       "      <th>microbusiness_density</th>\n",
       "      <th>cfips</th>\n",
       "    </tr>\n",
       "  </thead>\n",
       "  <tbody>\n",
       "    <tr>\n",
       "      <th>0</th>\n",
       "      <td>10001_2019-08-01</td>\n",
       "      <td>0.007246</td>\n",
       "      <td>2019-08-01</td>\n",
       "      <td>4.995701</td>\n",
       "      <td>10001</td>\n",
       "    </tr>\n",
       "    <tr>\n",
       "      <th>1</th>\n",
       "      <td>10001_2019-09-01</td>\n",
       "      <td>0.013189</td>\n",
       "      <td>2019-09-01</td>\n",
       "      <td>5.031902</td>\n",
       "      <td>10001</td>\n",
       "    </tr>\n",
       "    <tr>\n",
       "      <th>2</th>\n",
       "      <td>10001_2019-10-01</td>\n",
       "      <td>0.005178</td>\n",
       "      <td>2019-10-01</td>\n",
       "      <td>5.098270</td>\n",
       "      <td>10001</td>\n",
       "    </tr>\n",
       "    <tr>\n",
       "      <th>3</th>\n",
       "      <td>10001_2019-11-01</td>\n",
       "      <td>-0.007505</td>\n",
       "      <td>2019-11-01</td>\n",
       "      <td>5.124666</td>\n",
       "      <td>10001</td>\n",
       "    </tr>\n",
       "    <tr>\n",
       "      <th>4</th>\n",
       "      <td>10001_2019-12-01</td>\n",
       "      <td>-0.013513</td>\n",
       "      <td>2019-12-01</td>\n",
       "      <td>5.086203</td>\n",
       "      <td>10001</td>\n",
       "    </tr>\n",
       "    <tr>\n",
       "      <th>...</th>\n",
       "      <td>...</td>\n",
       "      <td>...</td>\n",
       "      <td>...</td>\n",
       "      <td>...</td>\n",
       "      <td>...</td>\n",
       "    </tr>\n",
       "    <tr>\n",
       "      <th>90896</th>\n",
       "      <td>9015_2021-08-01</td>\n",
       "      <td>-0.003922</td>\n",
       "      <td>2021-08-01</td>\n",
       "      <td>3.555913</td>\n",
       "      <td>9015</td>\n",
       "    </tr>\n",
       "    <tr>\n",
       "      <th>90897</th>\n",
       "      <td>9015_2021-09-01</td>\n",
       "      <td>-0.000909</td>\n",
       "      <td>2021-09-01</td>\n",
       "      <td>3.541968</td>\n",
       "      <td>9015</td>\n",
       "    </tr>\n",
       "    <tr>\n",
       "      <th>90898</th>\n",
       "      <td>9015_2021-10-01</td>\n",
       "      <td>0.006062</td>\n",
       "      <td>2021-10-01</td>\n",
       "      <td>3.538750</td>\n",
       "      <td>9015</td>\n",
       "    </tr>\n",
       "    <tr>\n",
       "      <th>90899</th>\n",
       "      <td>9015_2021-11-01</td>\n",
       "      <td>-0.008436</td>\n",
       "      <td>2021-11-01</td>\n",
       "      <td>3.560204</td>\n",
       "      <td>9015</td>\n",
       "    </tr>\n",
       "    <tr>\n",
       "      <th>90900</th>\n",
       "      <td>9015_2021-12-01</td>\n",
       "      <td>-0.001715</td>\n",
       "      <td>2021-12-01</td>\n",
       "      <td>3.530169</td>\n",
       "      <td>9015</td>\n",
       "    </tr>\n",
       "  </tbody>\n",
       "</table>\n",
       "<p>90901 rows × 5 columns</p>\n",
       "</div>"
      ],
      "text/plain": [
       "                 row_id    target first_day_of_month  microbusiness_density  \\\n",
       "0      10001_2019-08-01  0.007246         2019-08-01               4.995701   \n",
       "1      10001_2019-09-01  0.013189         2019-09-01               5.031902   \n",
       "2      10001_2019-10-01  0.005178         2019-10-01               5.098270   \n",
       "3      10001_2019-11-01 -0.007505         2019-11-01               5.124666   \n",
       "4      10001_2019-12-01 -0.013513         2019-12-01               5.086203   \n",
       "...                 ...       ...                ...                    ...   \n",
       "90896   9015_2021-08-01 -0.003922         2021-08-01               3.555913   \n",
       "90897   9015_2021-09-01 -0.000909         2021-09-01               3.541968   \n",
       "90898   9015_2021-10-01  0.006062         2021-10-01               3.538750   \n",
       "90899   9015_2021-11-01 -0.008436         2021-11-01               3.560204   \n",
       "90900   9015_2021-12-01 -0.001715         2021-12-01               3.530169   \n",
       "\n",
       "       cfips  \n",
       "0      10001  \n",
       "1      10001  \n",
       "2      10001  \n",
       "3      10001  \n",
       "4      10001  \n",
       "...      ...  \n",
       "90896   9015  \n",
       "90897   9015  \n",
       "90898   9015  \n",
       "90899   9015  \n",
       "90900   9015  \n",
       "\n",
       "[90901 rows x 5 columns]"
      ]
     },
     "execution_count": 400,
     "metadata": {},
     "output_type": "execute_result"
    }
   ],
   "source": [
    "df_continuos"
   ]
  },
  {
   "cell_type": "code",
   "execution_count": 401,
   "metadata": {},
   "outputs": [
    {
     "data": {
      "text/plain": [
       "<module 'src.train' from '/var/DSTeam/locnt2/personal/micro_business/src/train.py'>"
      ]
     },
     "execution_count": 401,
     "metadata": {},
     "output_type": "execute_result"
    }
   ],
   "source": [
    "reload(train)"
   ]
  },
  {
   "cell_type": "code",
   "execution_count": 402,
   "metadata": {},
   "outputs": [
    {
     "name": "stderr",
     "output_type": "stream",
     "text": [
      "Feature Extraction: 100%|██████████| 157/157 [00:06<00:00, 25.21it/s]\n",
      "Feature Extraction: 100%|██████████| 157/157 [00:06<00:00, 25.53it/s]\n",
      "Feature Extraction: 100%|██████████| 157/157 [00:06<00:00, 24.73it/s]\n",
      "Feature Extraction: 100%|██████████| 157/157 [00:05<00:00, 27.17it/s]\n",
      "Feature Extraction: 100%|██████████| 157/157 [00:05<00:00, 28.49it/s]\n",
      "Feature Extraction: 100%|██████████| 157/157 [00:05<00:00, 28.42it/s]\n",
      "Feature Extraction: 100%|██████████| 157/157 [00:05<00:00, 26.58it/s]\n",
      "Feature Extraction: 100%|██████████| 157/157 [00:05<00:00, 28.49it/s]\n",
      "Feature Extraction: 100%|██████████| 157/157 [00:05<00:00, 28.23it/s]\n",
      "Feature Extraction: 100%|██████████| 157/157 [00:06<00:00, 25.21it/s]\n"
     ]
    }
   ],
   "source": [
    "for dt in [pivot_train+relativedelta(months=i) for i in range(0,10)]:\n",
    "    df_this_dt=train.create_feature_ts_for_dt(\n",
    "        df_continuos=df_continuos,\n",
    "        dt=dt,\n",
    "        df_feature_active=df_ft_active,\n",
    "        target_col='target',\n",
    "        mcb_col='microbusiness_density',\n",
    "        time_col='first_day_of_month'\n",
    "    )\n",
    "    pred_target=xgb.predict(\n",
    "        df_this_dt[xgb.feature_names_in_].replace({np.inf:max_val,-np.inf:min_val})\n",
    "    )\n",
    "    df_next=pd.DataFrame(\n",
    "        {\n",
    "            'target':pred_target.tolist(),\n",
    "            'first_day_of_month':dt,\n",
    "            'cfips':df_this_dt['cfips'],\n",
    "        }\n",
    "    ).assign(row_id=lambda x:x['cfips'].apply(str)+'_'+x['first_day_of_month'].dt.strftime('%Y-%m-%d'))\n",
    "    \n",
    "    df_next_with_prev_mcb=pd.merge(\n",
    "        df_next,\n",
    "        df_continuos.groupby('cfips')['microbusiness_density'].last().reset_index().rename({'microbusiness_density':'prev_mcb'},axis=1),\n",
    "        on='cfips'\n",
    "    ).assign(microbusiness_density=lambda x:(x['target']+1)*x['prev_mcb'])[['row_id','target','first_day_of_month','microbusiness_density','cfips']]\n",
    "    \n",
    "    df_continuos=pd.concat([df_continuos,df_next_with_prev_mcb])\n"
   ]
  },
  {
   "cell_type": "code",
   "execution_count": 403,
   "metadata": {},
   "outputs": [],
   "source": [
    "df_eval_with_pred=pd.merge(\n",
    "    df_eval_oot[['row_id','cfips','first_day_of_month','microbusiness_density']].rename({'microbusiness_density':'truth'},axis=1),\n",
    "    df_continuos[['row_id','cfips','first_day_of_month','microbusiness_density']].rename({'microbusiness_density':'pred'},axis=1),\n",
    "    on=['row_id','cfips','first_day_of_month']\n",
    ")"
   ]
  },
  {
   "cell_type": "code",
   "execution_count": 404,
   "metadata": {},
   "outputs": [
    {
     "data": {
      "text/html": [
       "<div>\n",
       "<style scoped>\n",
       "    .dataframe tbody tr th:only-of-type {\n",
       "        vertical-align: middle;\n",
       "    }\n",
       "\n",
       "    .dataframe tbody tr th {\n",
       "        vertical-align: top;\n",
       "    }\n",
       "\n",
       "    .dataframe thead th {\n",
       "        text-align: right;\n",
       "    }\n",
       "</style>\n",
       "<table border=\"1\" class=\"dataframe\">\n",
       "  <thead>\n",
       "    <tr style=\"text-align: right;\">\n",
       "      <th></th>\n",
       "      <th>row_id</th>\n",
       "      <th>cfips</th>\n",
       "      <th>first_day_of_month</th>\n",
       "      <th>truth</th>\n",
       "      <th>pred</th>\n",
       "    </tr>\n",
       "  </thead>\n",
       "  <tbody>\n",
       "    <tr>\n",
       "      <th>50</th>\n",
       "      <td>1005_2022-06-01</td>\n",
       "      <td>1005</td>\n",
       "      <td>2022-06-01</td>\n",
       "      <td>1.191678</td>\n",
       "      <td>1.156130</td>\n",
       "    </tr>\n",
       "    <tr>\n",
       "      <th>51</th>\n",
       "      <td>1005_2022-07-01</td>\n",
       "      <td>1005</td>\n",
       "      <td>2022-07-01</td>\n",
       "      <td>1.216926</td>\n",
       "      <td>1.156838</td>\n",
       "    </tr>\n",
       "    <tr>\n",
       "      <th>52</th>\n",
       "      <td>1005_2022-08-01</td>\n",
       "      <td>1005</td>\n",
       "      <td>2022-08-01</td>\n",
       "      <td>1.196728</td>\n",
       "      <td>1.157547</td>\n",
       "    </tr>\n",
       "    <tr>\n",
       "      <th>53</th>\n",
       "      <td>1005_2022-09-01</td>\n",
       "      <td>1005</td>\n",
       "      <td>2022-09-01</td>\n",
       "      <td>1.206827</td>\n",
       "      <td>1.158256</td>\n",
       "    </tr>\n",
       "    <tr>\n",
       "      <th>54</th>\n",
       "      <td>1007_2022-01-01</td>\n",
       "      <td>1007</td>\n",
       "      <td>2022-01-01</td>\n",
       "      <td>1.214165</td>\n",
       "      <td>1.210012</td>\n",
       "    </tr>\n",
       "    <tr>\n",
       "      <th>55</th>\n",
       "      <td>1007_2022-02-01</td>\n",
       "      <td>1007</td>\n",
       "      <td>2022-02-01</td>\n",
       "      <td>1.236650</td>\n",
       "      <td>1.210753</td>\n",
       "    </tr>\n",
       "    <tr>\n",
       "      <th>56</th>\n",
       "      <td>1007_2022-03-01</td>\n",
       "      <td>1007</td>\n",
       "      <td>2022-03-01</td>\n",
       "      <td>1.264755</td>\n",
       "      <td>1.211495</td>\n",
       "    </tr>\n",
       "    <tr>\n",
       "      <th>57</th>\n",
       "      <td>1007_2022-04-01</td>\n",
       "      <td>1007</td>\n",
       "      <td>2022-04-01</td>\n",
       "      <td>1.253513</td>\n",
       "      <td>1.212237</td>\n",
       "    </tr>\n",
       "    <tr>\n",
       "      <th>58</th>\n",
       "      <td>1007_2022-05-01</td>\n",
       "      <td>1007</td>\n",
       "      <td>2022-05-01</td>\n",
       "      <td>1.247892</td>\n",
       "      <td>1.212979</td>\n",
       "    </tr>\n",
       "    <tr>\n",
       "      <th>59</th>\n",
       "      <td>1007_2022-06-01</td>\n",
       "      <td>1007</td>\n",
       "      <td>2022-06-01</td>\n",
       "      <td>1.275998</td>\n",
       "      <td>1.213722</td>\n",
       "    </tr>\n",
       "  </tbody>\n",
       "</table>\n",
       "</div>"
      ],
      "text/plain": [
       "             row_id  cfips first_day_of_month     truth      pred\n",
       "50  1005_2022-06-01   1005         2022-06-01  1.191678  1.156130\n",
       "51  1005_2022-07-01   1005         2022-07-01  1.216926  1.156838\n",
       "52  1005_2022-08-01   1005         2022-08-01  1.196728  1.157547\n",
       "53  1005_2022-09-01   1005         2022-09-01  1.206827  1.158256\n",
       "54  1007_2022-01-01   1007         2022-01-01  1.214165  1.210012\n",
       "55  1007_2022-02-01   1007         2022-02-01  1.236650  1.210753\n",
       "56  1007_2022-03-01   1007         2022-03-01  1.264755  1.211495\n",
       "57  1007_2022-04-01   1007         2022-04-01  1.253513  1.212237\n",
       "58  1007_2022-05-01   1007         2022-05-01  1.247892  1.212979\n",
       "59  1007_2022-06-01   1007         2022-06-01  1.275998  1.213722"
      ]
     },
     "execution_count": 404,
     "metadata": {},
     "output_type": "execute_result"
    }
   ],
   "source": [
    "x=50\n",
    "df_eval_with_pred[x:x+10]"
   ]
  },
  {
   "cell_type": "code",
   "execution_count": 405,
   "metadata": {},
   "outputs": [
    {
     "data": {
      "text/plain": [
       "0.037222943631900415"
      ]
     },
     "execution_count": 405,
     "metadata": {},
     "output_type": "execute_result"
    }
   ],
   "source": [
    "smape(df_eval_with_pred.truth,df_eval_with_pred.pred)"
   ]
  },
  {
   "cell_type": "code",
   "execution_count": 407,
   "metadata": {},
   "outputs": [],
   "source": [
    "manager=Manager()\n",
    "dict_smape=manager.dict()"
   ]
  },
  {
   "cell_type": "code",
   "execution_count": 408,
   "metadata": {},
   "outputs": [],
   "source": [
    "def get_sampe_for_cfips(cfips:int):\n",
    "    tmp_df=df_eval_with_pred.loc[lambda x:x.cfips==cfips]\n",
    "    dict_smape[cfips]=smape(tmp_df.truth,tmp_df.pred)"
   ]
  },
  {
   "cell_type": "code",
   "execution_count": 409,
   "metadata": {},
   "outputs": [],
   "source": [
    "list_cfips=list(set(df_eval_with_pred.cfips))"
   ]
  },
  {
   "cell_type": "code",
   "execution_count": 411,
   "metadata": {},
   "outputs": [],
   "source": [
    "with Pool(processes=32) as p:\n",
    "    p.map(get_sampe_for_cfips,list_cfips)"
   ]
  },
  {
   "cell_type": "code",
   "execution_count": 414,
   "metadata": {},
   "outputs": [],
   "source": [
    "normal_dict_smape={}\n",
    "for key in dict_smape.keys():\n",
    "    normal_dict_smape[key]=dict_smape[key]"
   ]
  },
  {
   "cell_type": "code",
   "execution_count": 516,
   "metadata": {},
   "outputs": [],
   "source": [
    "list_modified_cfips=pd.DataFrame({\n",
    "    'cfips':[x for x,_ in sorted(normal_dict_smape.items(),key=lambda x:x[1])[-100:]]\n",
    "    }\n",
    ")"
   ]
  },
  {
   "cell_type": "code",
   "execution_count": 517,
   "metadata": {},
   "outputs": [
    {
     "data": {
      "text/html": [
       "<div>\n",
       "<style scoped>\n",
       "    .dataframe tbody tr th:only-of-type {\n",
       "        vertical-align: middle;\n",
       "    }\n",
       "\n",
       "    .dataframe tbody tr th {\n",
       "        vertical-align: top;\n",
       "    }\n",
       "\n",
       "    .dataframe thead th {\n",
       "        text-align: right;\n",
       "    }\n",
       "</style>\n",
       "<table border=\"1\" class=\"dataframe\">\n",
       "  <thead>\n",
       "    <tr style=\"text-align: right;\">\n",
       "      <th></th>\n",
       "      <th>cfips</th>\n",
       "    </tr>\n",
       "  </thead>\n",
       "  <tbody>\n",
       "    <tr>\n",
       "      <th>0</th>\n",
       "      <td>22123</td>\n",
       "    </tr>\n",
       "    <tr>\n",
       "      <th>1</th>\n",
       "      <td>20033</td>\n",
       "    </tr>\n",
       "    <tr>\n",
       "      <th>2</th>\n",
       "      <td>19175</td>\n",
       "    </tr>\n",
       "    <tr>\n",
       "      <th>3</th>\n",
       "      <td>2230</td>\n",
       "    </tr>\n",
       "    <tr>\n",
       "      <th>4</th>\n",
       "      <td>30085</td>\n",
       "    </tr>\n",
       "    <tr>\n",
       "      <th>...</th>\n",
       "      <td>...</td>\n",
       "    </tr>\n",
       "    <tr>\n",
       "      <th>95</th>\n",
       "      <td>51043</td>\n",
       "    </tr>\n",
       "    <tr>\n",
       "      <th>96</th>\n",
       "      <td>32510</td>\n",
       "    </tr>\n",
       "    <tr>\n",
       "      <th>97</th>\n",
       "      <td>13239</td>\n",
       "    </tr>\n",
       "    <tr>\n",
       "      <th>98</th>\n",
       "      <td>38087</td>\n",
       "    </tr>\n",
       "    <tr>\n",
       "      <th>99</th>\n",
       "      <td>15005</td>\n",
       "    </tr>\n",
       "  </tbody>\n",
       "</table>\n",
       "<p>100 rows × 1 columns</p>\n",
       "</div>"
      ],
      "text/plain": [
       "    cfips\n",
       "0   22123\n",
       "1   20033\n",
       "2   19175\n",
       "3    2230\n",
       "4   30085\n",
       "..    ...\n",
       "95  51043\n",
       "96  32510\n",
       "97  13239\n",
       "98  38087\n",
       "99  15005\n",
       "\n",
       "[100 rows x 1 columns]"
      ]
     },
     "execution_count": 517,
     "metadata": {},
     "output_type": "execute_result"
    }
   ],
   "source": [
    "list_modified_cfips"
   ]
  },
  {
   "cell_type": "code",
   "execution_count": 518,
   "metadata": {},
   "outputs": [],
   "source": [
    "df_last_val=pd.merge(\n",
    "    df_label,\n",
    "    df.loc[lambda x:x.first_day_of_month<pivot_train][['row_id', 'microbusiness_density','cfips']],\n",
    "    on='row_id'\n",
    ").groupby('cfips')['microbusiness_density'].last().reset_index()"
   ]
  },
  {
   "cell_type": "code",
   "execution_count": 519,
   "metadata": {},
   "outputs": [],
   "source": [
    "df_modified_cfips=pd.merge(\n",
    "    df_last_val,\n",
    "    list_modified_cfips,\n",
    "    on='cfips'\n",
    ")"
   ]
  },
  {
   "cell_type": "code",
   "execution_count": 520,
   "metadata": {},
   "outputs": [],
   "source": [
    "df_=pd.merge(\n",
    "    df_eval_with_pred,\n",
    "    df_modified_cfips,\n",
    "    on='cfips',\n",
    "    how='left'\n",
    ")\n",
    "df_['microbusiness_density'].fillna(value=df_.pred,inplace=True)"
   ]
  },
  {
   "cell_type": "code",
   "execution_count": 521,
   "metadata": {},
   "outputs": [
    {
     "data": {
      "text/html": [
       "<div>\n",
       "<style scoped>\n",
       "    .dataframe tbody tr th:only-of-type {\n",
       "        vertical-align: middle;\n",
       "    }\n",
       "\n",
       "    .dataframe tbody tr th {\n",
       "        vertical-align: top;\n",
       "    }\n",
       "\n",
       "    .dataframe thead th {\n",
       "        text-align: right;\n",
       "    }\n",
       "</style>\n",
       "<table border=\"1\" class=\"dataframe\">\n",
       "  <thead>\n",
       "    <tr style=\"text-align: right;\">\n",
       "      <th></th>\n",
       "      <th>row_id</th>\n",
       "      <th>cfips</th>\n",
       "      <th>first_day_of_month</th>\n",
       "      <th>truth</th>\n",
       "      <th>pred</th>\n",
       "      <th>microbusiness_density</th>\n",
       "    </tr>\n",
       "  </thead>\n",
       "  <tbody>\n",
       "    <tr>\n",
       "      <th>0</th>\n",
       "      <td>10001_2022-01-01</td>\n",
       "      <td>10001</td>\n",
       "      <td>2022-01-01</td>\n",
       "      <td>6.218161</td>\n",
       "      <td>6.260361</td>\n",
       "      <td>6.260361</td>\n",
       "    </tr>\n",
       "    <tr>\n",
       "      <th>1</th>\n",
       "      <td>10001_2022-02-01</td>\n",
       "      <td>10001</td>\n",
       "      <td>2022-02-01</td>\n",
       "      <td>6.352220</td>\n",
       "      <td>6.264196</td>\n",
       "      <td>6.264196</td>\n",
       "    </tr>\n",
       "    <tr>\n",
       "      <th>2</th>\n",
       "      <td>10001_2022-03-01</td>\n",
       "      <td>10001</td>\n",
       "      <td>2022-03-01</td>\n",
       "      <td>6.445699</td>\n",
       "      <td>6.268033</td>\n",
       "      <td>6.268033</td>\n",
       "    </tr>\n",
       "    <tr>\n",
       "      <th>3</th>\n",
       "      <td>10001_2022-04-01</td>\n",
       "      <td>10001</td>\n",
       "      <td>2022-04-01</td>\n",
       "      <td>6.502221</td>\n",
       "      <td>6.271873</td>\n",
       "      <td>6.271873</td>\n",
       "    </tr>\n",
       "    <tr>\n",
       "      <th>4</th>\n",
       "      <td>10001_2022-05-01</td>\n",
       "      <td>10001</td>\n",
       "      <td>2022-05-01</td>\n",
       "      <td>6.481931</td>\n",
       "      <td>6.275715</td>\n",
       "      <td>6.275715</td>\n",
       "    </tr>\n",
       "    <tr>\n",
       "      <th>...</th>\n",
       "      <td>...</td>\n",
       "      <td>...</td>\n",
       "      <td>...</td>\n",
       "      <td>...</td>\n",
       "      <td>...</td>\n",
       "      <td>...</td>\n",
       "    </tr>\n",
       "    <tr>\n",
       "      <th>28201</th>\n",
       "      <td>9015_2022-05-01</td>\n",
       "      <td>9015</td>\n",
       "      <td>2022-05-01</td>\n",
       "      <td>3.524116</td>\n",
       "      <td>3.540994</td>\n",
       "      <td>3.540994</td>\n",
       "    </tr>\n",
       "    <tr>\n",
       "      <th>28202</th>\n",
       "      <td>9015_2022-06-01</td>\n",
       "      <td>9015</td>\n",
       "      <td>2022-06-01</td>\n",
       "      <td>3.521978</td>\n",
       "      <td>3.543163</td>\n",
       "      <td>3.543163</td>\n",
       "    </tr>\n",
       "    <tr>\n",
       "      <th>28203</th>\n",
       "      <td>9015_2022-07-01</td>\n",
       "      <td>9015</td>\n",
       "      <td>2022-07-01</td>\n",
       "      <td>3.574369</td>\n",
       "      <td>3.545334</td>\n",
       "      <td>3.545334</td>\n",
       "    </tr>\n",
       "    <tr>\n",
       "      <th>28204</th>\n",
       "      <td>9015_2022-08-01</td>\n",
       "      <td>9015</td>\n",
       "      <td>2022-08-01</td>\n",
       "      <td>3.552985</td>\n",
       "      <td>3.547506</td>\n",
       "      <td>3.547506</td>\n",
       "    </tr>\n",
       "    <tr>\n",
       "      <th>28205</th>\n",
       "      <td>9015_2022-09-01</td>\n",
       "      <td>9015</td>\n",
       "      <td>2022-09-01</td>\n",
       "      <td>3.567954</td>\n",
       "      <td>3.549679</td>\n",
       "      <td>3.549679</td>\n",
       "    </tr>\n",
       "  </tbody>\n",
       "</table>\n",
       "<p>28206 rows × 6 columns</p>\n",
       "</div>"
      ],
      "text/plain": [
       "                 row_id  cfips first_day_of_month     truth      pred  \\\n",
       "0      10001_2022-01-01  10001         2022-01-01  6.218161  6.260361   \n",
       "1      10001_2022-02-01  10001         2022-02-01  6.352220  6.264196   \n",
       "2      10001_2022-03-01  10001         2022-03-01  6.445699  6.268033   \n",
       "3      10001_2022-04-01  10001         2022-04-01  6.502221  6.271873   \n",
       "4      10001_2022-05-01  10001         2022-05-01  6.481931  6.275715   \n",
       "...                 ...    ...                ...       ...       ...   \n",
       "28201   9015_2022-05-01   9015         2022-05-01  3.524116  3.540994   \n",
       "28202   9015_2022-06-01   9015         2022-06-01  3.521978  3.543163   \n",
       "28203   9015_2022-07-01   9015         2022-07-01  3.574369  3.545334   \n",
       "28204   9015_2022-08-01   9015         2022-08-01  3.552985  3.547506   \n",
       "28205   9015_2022-09-01   9015         2022-09-01  3.567954  3.549679   \n",
       "\n",
       "       microbusiness_density  \n",
       "0                   6.260361  \n",
       "1                   6.264196  \n",
       "2                   6.268033  \n",
       "3                   6.271873  \n",
       "4                   6.275715  \n",
       "...                      ...  \n",
       "28201               3.540994  \n",
       "28202               3.543163  \n",
       "28203               3.545334  \n",
       "28204               3.547506  \n",
       "28205               3.549679  \n",
       "\n",
       "[28206 rows x 6 columns]"
      ]
     },
     "execution_count": 521,
     "metadata": {},
     "output_type": "execute_result"
    }
   ],
   "source": [
    "df_"
   ]
  },
  {
   "cell_type": "code",
   "execution_count": 522,
   "metadata": {},
   "outputs": [
    {
     "data": {
      "text/plain": [
       "0.03725350462173412"
      ]
     },
     "execution_count": 522,
     "metadata": {},
     "output_type": "execute_result"
    }
   ],
   "source": [
    "smape(df_.truth,df_.microbusiness_density)"
   ]
  },
  {
   "cell_type": "code",
   "execution_count": null,
   "metadata": {},
   "outputs": [],
   "source": []
  },
  {
   "cell_type": "code",
   "execution_count": null,
   "metadata": {},
   "outputs": [],
   "source": []
  },
  {
   "cell_type": "code",
   "execution_count": null,
   "metadata": {},
   "outputs": [],
   "source": []
  },
  {
   "cell_type": "code",
   "execution_count": null,
   "metadata": {},
   "outputs": [],
   "source": []
  }
 ],
 "metadata": {
  "kernelspec": {
   "display_name": "Python 3",
   "language": "python",
   "name": "python3"
  },
  "language_info": {
   "codemirror_mode": {
    "name": "ipython",
    "version": 3
   },
   "file_extension": ".py",
   "mimetype": "text/x-python",
   "name": "python",
   "nbconvert_exporter": "python",
   "pygments_lexer": "ipython3",
   "version": "3.8.16"
  },
  "orig_nbformat": 4,
  "vscode": {
   "interpreter": {
    "hash": "3d219d1c7b2bb650bc922be83f209160f8ff81cb87f1a527e8eba317683a8aff"
   }
  }
 },
 "nbformat": 4,
 "nbformat_minor": 2
}
